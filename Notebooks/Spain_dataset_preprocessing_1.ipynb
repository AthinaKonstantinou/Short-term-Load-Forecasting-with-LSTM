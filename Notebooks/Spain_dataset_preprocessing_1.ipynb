{
 "cells": [
  {
   "cell_type": "code",
   "execution_count": 1,
   "metadata": {},
   "outputs": [],
   "source": [
    "#import libraries\n",
    "import pandas as pd\n",
    "import seaborn as sns\n",
    "import numpy as np\n",
    "import matplotlib.pyplot as plt\n",
    "%matplotlib inline\n",
    "import datetime as dt"
   ]
  },
  {
   "cell_type": "code",
   "execution_count": 2,
   "metadata": {},
   "outputs": [],
   "source": [
    "#loading data fron csv files\n",
    "Data = pd.read_csv(\"energy_dataset.csv\") \n",
    "Data2 = pd.read_csv(\"weather_features.csv\") "
   ]
  },
  {
   "cell_type": "code",
   "execution_count": 3,
   "metadata": {},
   "outputs": [],
   "source": [
    "#select the fetures will need\n",
    "Energy_data=Data.loc[:, [\"time\",\"total load actual\",\"total load forecast\" ]]"
   ]
  },
  {
   "cell_type": "code",
   "execution_count": 4,
   "metadata": {
    "scrolled": false
   },
   "outputs": [
    {
     "data": {
      "text/html": [
       "<div>\n",
       "<style scoped>\n",
       "    .dataframe tbody tr th:only-of-type {\n",
       "        vertical-align: middle;\n",
       "    }\n",
       "\n",
       "    .dataframe tbody tr th {\n",
       "        vertical-align: top;\n",
       "    }\n",
       "\n",
       "    .dataframe thead th {\n",
       "        text-align: right;\n",
       "    }\n",
       "</style>\n",
       "<table border=\"1\" class=\"dataframe\">\n",
       "  <thead>\n",
       "    <tr style=\"text-align: right;\">\n",
       "      <th></th>\n",
       "      <th>time</th>\n",
       "      <th>total load actual</th>\n",
       "      <th>total load forecast</th>\n",
       "    </tr>\n",
       "  </thead>\n",
       "  <tbody>\n",
       "    <tr>\n",
       "      <td>0</td>\n",
       "      <td>2015-01-01 00:00:00+01:00</td>\n",
       "      <td>25385.0</td>\n",
       "      <td>26118.0</td>\n",
       "    </tr>\n",
       "    <tr>\n",
       "      <td>1</td>\n",
       "      <td>2015-01-01 01:00:00+01:00</td>\n",
       "      <td>24382.0</td>\n",
       "      <td>24934.0</td>\n",
       "    </tr>\n",
       "    <tr>\n",
       "      <td>2</td>\n",
       "      <td>2015-01-01 02:00:00+01:00</td>\n",
       "      <td>22734.0</td>\n",
       "      <td>23515.0</td>\n",
       "    </tr>\n",
       "    <tr>\n",
       "      <td>3</td>\n",
       "      <td>2015-01-01 03:00:00+01:00</td>\n",
       "      <td>21286.0</td>\n",
       "      <td>22642.0</td>\n",
       "    </tr>\n",
       "    <tr>\n",
       "      <td>4</td>\n",
       "      <td>2015-01-01 04:00:00+01:00</td>\n",
       "      <td>20264.0</td>\n",
       "      <td>21785.0</td>\n",
       "    </tr>\n",
       "  </tbody>\n",
       "</table>\n",
       "</div>"
      ],
      "text/plain": [
       "                        time  total load actual  total load forecast\n",
       "0  2015-01-01 00:00:00+01:00            25385.0              26118.0\n",
       "1  2015-01-01 01:00:00+01:00            24382.0              24934.0\n",
       "2  2015-01-01 02:00:00+01:00            22734.0              23515.0\n",
       "3  2015-01-01 03:00:00+01:00            21286.0              22642.0\n",
       "4  2015-01-01 04:00:00+01:00            20264.0              21785.0"
      ]
     },
     "execution_count": 4,
     "metadata": {},
     "output_type": "execute_result"
    }
   ],
   "source": [
    "Energy_data.head()"
   ]
  },
  {
   "cell_type": "code",
   "execution_count": 5,
   "metadata": {},
   "outputs": [
    {
     "name": "stdout",
     "output_type": "stream",
     "text": [
      "<class 'pandas.core.frame.DataFrame'>\n",
      "RangeIndex: 35064 entries, 0 to 35063\n",
      "Data columns (total 3 columns):\n",
      "time                   35064 non-null object\n",
      "total load actual      35028 non-null float64\n",
      "total load forecast    35064 non-null float64\n",
      "dtypes: float64(2), object(1)\n",
      "memory usage: 821.9+ KB\n"
     ]
    }
   ],
   "source": [
    "#Energy_data.describe().round(2)\n",
    "Energy_data.info()"
   ]
  },
  {
   "cell_type": "markdown",
   "metadata": {},
   "source": [
    "## there are null values"
   ]
  },
  {
   "cell_type": "code",
   "execution_count": 6,
   "metadata": {},
   "outputs": [
    {
     "data": {
      "text/html": [
       "<div>\n",
       "<style scoped>\n",
       "    .dataframe tbody tr th:only-of-type {\n",
       "        vertical-align: middle;\n",
       "    }\n",
       "\n",
       "    .dataframe tbody tr th {\n",
       "        vertical-align: top;\n",
       "    }\n",
       "\n",
       "    .dataframe thead th {\n",
       "        text-align: right;\n",
       "    }\n",
       "</style>\n",
       "<table border=\"1\" class=\"dataframe\">\n",
       "  <thead>\n",
       "    <tr style=\"text-align: right;\">\n",
       "      <th></th>\n",
       "      <th>dt_iso</th>\n",
       "      <th>city_name</th>\n",
       "      <th>temp</th>\n",
       "      <th>pressure</th>\n",
       "      <th>humidity</th>\n",
       "      <th>wind_speed</th>\n",
       "    </tr>\n",
       "  </thead>\n",
       "  <tbody>\n",
       "    <tr>\n",
       "      <td>0</td>\n",
       "      <td>2015-01-01 00:00:00+01:00</td>\n",
       "      <td>Valencia</td>\n",
       "      <td>270.475</td>\n",
       "      <td>1001</td>\n",
       "      <td>77</td>\n",
       "      <td>1</td>\n",
       "    </tr>\n",
       "    <tr>\n",
       "      <td>1</td>\n",
       "      <td>2015-01-01 01:00:00+01:00</td>\n",
       "      <td>Valencia</td>\n",
       "      <td>270.475</td>\n",
       "      <td>1001</td>\n",
       "      <td>77</td>\n",
       "      <td>1</td>\n",
       "    </tr>\n",
       "    <tr>\n",
       "      <td>2</td>\n",
       "      <td>2015-01-01 02:00:00+01:00</td>\n",
       "      <td>Valencia</td>\n",
       "      <td>269.686</td>\n",
       "      <td>1002</td>\n",
       "      <td>78</td>\n",
       "      <td>0</td>\n",
       "    </tr>\n",
       "    <tr>\n",
       "      <td>3</td>\n",
       "      <td>2015-01-01 03:00:00+01:00</td>\n",
       "      <td>Valencia</td>\n",
       "      <td>269.686</td>\n",
       "      <td>1002</td>\n",
       "      <td>78</td>\n",
       "      <td>0</td>\n",
       "    </tr>\n",
       "    <tr>\n",
       "      <td>4</td>\n",
       "      <td>2015-01-01 04:00:00+01:00</td>\n",
       "      <td>Valencia</td>\n",
       "      <td>269.686</td>\n",
       "      <td>1002</td>\n",
       "      <td>78</td>\n",
       "      <td>0</td>\n",
       "    </tr>\n",
       "  </tbody>\n",
       "</table>\n",
       "</div>"
      ],
      "text/plain": [
       "                      dt_iso city_name     temp  pressure  humidity  \\\n",
       "0  2015-01-01 00:00:00+01:00  Valencia  270.475      1001        77   \n",
       "1  2015-01-01 01:00:00+01:00  Valencia  270.475      1001        77   \n",
       "2  2015-01-01 02:00:00+01:00  Valencia  269.686      1002        78   \n",
       "3  2015-01-01 03:00:00+01:00  Valencia  269.686      1002        78   \n",
       "4  2015-01-01 04:00:00+01:00  Valencia  269.686      1002        78   \n",
       "\n",
       "   wind_speed  \n",
       "0           1  \n",
       "1           1  \n",
       "2           0  \n",
       "3           0  \n",
       "4           0  "
      ]
     },
     "execution_count": 6,
     "metadata": {},
     "output_type": "execute_result"
    }
   ],
   "source": [
    "Weather_data=Data2.loc[:, [\"dt_iso\",\"city_name\",\"temp\", \"pressure\", \"humidity\", \"wind_speed\"]]\n",
    "Weather_data.head()"
   ]
  },
  {
   "cell_type": "code",
   "execution_count": 7,
   "metadata": {},
   "outputs": [
    {
     "data": {
      "text/html": [
       "<div>\n",
       "<style scoped>\n",
       "    .dataframe tbody tr th:only-of-type {\n",
       "        vertical-align: middle;\n",
       "    }\n",
       "\n",
       "    .dataframe tbody tr th {\n",
       "        vertical-align: top;\n",
       "    }\n",
       "\n",
       "    .dataframe thead th {\n",
       "        text-align: right;\n",
       "    }\n",
       "</style>\n",
       "<table border=\"1\" class=\"dataframe\">\n",
       "  <thead>\n",
       "    <tr style=\"text-align: right;\">\n",
       "      <th></th>\n",
       "      <th>temp</th>\n",
       "      <th>pressure</th>\n",
       "      <th>humidity</th>\n",
       "      <th>wind_speed</th>\n",
       "    </tr>\n",
       "  </thead>\n",
       "  <tbody>\n",
       "    <tr>\n",
       "      <td>count</td>\n",
       "      <td>178396.00</td>\n",
       "      <td>178396.00</td>\n",
       "      <td>178396.00</td>\n",
       "      <td>178396.00</td>\n",
       "    </tr>\n",
       "    <tr>\n",
       "      <td>mean</td>\n",
       "      <td>289.62</td>\n",
       "      <td>1069.26</td>\n",
       "      <td>68.42</td>\n",
       "      <td>2.47</td>\n",
       "    </tr>\n",
       "    <tr>\n",
       "      <td>std</td>\n",
       "      <td>8.03</td>\n",
       "      <td>5969.63</td>\n",
       "      <td>21.90</td>\n",
       "      <td>2.10</td>\n",
       "    </tr>\n",
       "    <tr>\n",
       "      <td>min</td>\n",
       "      <td>262.24</td>\n",
       "      <td>0.00</td>\n",
       "      <td>0.00</td>\n",
       "      <td>0.00</td>\n",
       "    </tr>\n",
       "    <tr>\n",
       "      <td>25%</td>\n",
       "      <td>283.67</td>\n",
       "      <td>1013.00</td>\n",
       "      <td>53.00</td>\n",
       "      <td>1.00</td>\n",
       "    </tr>\n",
       "    <tr>\n",
       "      <td>50%</td>\n",
       "      <td>289.15</td>\n",
       "      <td>1018.00</td>\n",
       "      <td>72.00</td>\n",
       "      <td>2.00</td>\n",
       "    </tr>\n",
       "    <tr>\n",
       "      <td>75%</td>\n",
       "      <td>295.15</td>\n",
       "      <td>1022.00</td>\n",
       "      <td>87.00</td>\n",
       "      <td>4.00</td>\n",
       "    </tr>\n",
       "    <tr>\n",
       "      <td>max</td>\n",
       "      <td>315.60</td>\n",
       "      <td>1008371.00</td>\n",
       "      <td>100.00</td>\n",
       "      <td>133.00</td>\n",
       "    </tr>\n",
       "  </tbody>\n",
       "</table>\n",
       "</div>"
      ],
      "text/plain": [
       "            temp    pressure   humidity  wind_speed\n",
       "count  178396.00   178396.00  178396.00   178396.00\n",
       "mean      289.62     1069.26      68.42        2.47\n",
       "std         8.03     5969.63      21.90        2.10\n",
       "min       262.24        0.00       0.00        0.00\n",
       "25%       283.67     1013.00      53.00        1.00\n",
       "50%       289.15     1018.00      72.00        2.00\n",
       "75%       295.15     1022.00      87.00        4.00\n",
       "max       315.60  1008371.00     100.00      133.00"
      ]
     },
     "execution_count": 7,
     "metadata": {},
     "output_type": "execute_result"
    }
   ],
   "source": [
    "Weather_data.describe().round(2)"
   ]
  },
  {
   "cell_type": "markdown",
   "metadata": {},
   "source": [
    "## there are outliers "
   ]
  },
  {
   "cell_type": "code",
   "execution_count": 8,
   "metadata": {
    "scrolled": true
   },
   "outputs": [
    {
     "name": "stdout",
     "output_type": "stream",
     "text": [
      "<class 'pandas.core.frame.DataFrame'>\n",
      "RangeIndex: 178396 entries, 0 to 178395\n",
      "Data columns (total 6 columns):\n",
      "dt_iso        178396 non-null object\n",
      "city_name     178396 non-null object\n",
      "temp          178396 non-null float64\n",
      "pressure      178396 non-null int64\n",
      "humidity      178396 non-null int64\n",
      "wind_speed    178396 non-null int64\n",
      "dtypes: float64(1), int64(3), object(2)\n",
      "memory usage: 8.2+ MB\n"
     ]
    }
   ],
   "source": [
    "# Print the type of each variable in df_weather\n",
    "Weather_data.info()"
   ]
  },
  {
   "cell_type": "code",
   "execution_count": 9,
   "metadata": {},
   "outputs": [],
   "source": [
    "Weather_data['pressure']=Weather_data['pressure'].astype('float64')\n",
    "Weather_data['humidity']=Weather_data['humidity'].astype('float64')\n",
    "Weather_data['wind_speed']=Weather_data['wind_speed'].astype('float64')"
   ]
  },
  {
   "cell_type": "code",
   "execution_count": 10,
   "metadata": {},
   "outputs": [],
   "source": [
    "# Convert dt_iso to datetime type, rename it and set it as index\n",
    "Weather_data['time'] = pd.to_datetime(Weather_data['dt_iso'],  infer_datetime_format=True)\n",
    "Weather_data = Weather_data.drop(['dt_iso'], axis=1)\n",
    "Weather_data = Weather_data.set_index('time')\n"
   ]
  },
  {
   "cell_type": "markdown",
   "metadata": {},
   "source": [
    "# check for null values in energy and weather data"
   ]
  },
  {
   "cell_type": "code",
   "execution_count": 11,
   "metadata": {},
   "outputs": [
    {
     "name": "stdout",
     "output_type": "stream",
     "text": [
      "there number of null values in Εnergy_data is: 36\n"
     ]
    }
   ],
   "source": [
    "#check for null values\n",
    "print(\"there number of null values in Εnergy_data is:\",format(Energy_data.isnull().values.sum()))"
   ]
  },
  {
   "cell_type": "code",
   "execution_count": 12,
   "metadata": {},
   "outputs": [
    {
     "data": {
      "text/plain": [
       "time                    0\n",
       "total load actual      36\n",
       "total load forecast     0\n",
       "dtype: int64"
      ]
     },
     "execution_count": 12,
     "metadata": {},
     "output_type": "execute_result"
    }
   ],
   "source": [
    "Energy_data.isnull().sum(axis=0)"
   ]
  },
  {
   "cell_type": "code",
   "execution_count": 13,
   "metadata": {},
   "outputs": [
    {
     "name": "stdout",
     "output_type": "stream",
     "text": [
      "there number of null values in Weather_data is: 0\n"
     ]
    }
   ],
   "source": [
    "print(\"there number of null values in Weather_data is:\",format(Weather_data.isnull().values.sum()))"
   ]
  },
  {
   "cell_type": "code",
   "execution_count": 14,
   "metadata": {},
   "outputs": [],
   "source": [
    "#check wich data is null\n",
    "#Energy_data[Energy_data.isnull().any(axis=1)]"
   ]
  },
  {
   "cell_type": "code",
   "execution_count": 15,
   "metadata": {},
   "outputs": [],
   "source": [
    "#apply linear interpolation with a forward direction to fill the gups\n",
    "Energy_data.interpolate(method='linear', limit_direction='forward', inplace=True, axis=0)"
   ]
  },
  {
   "cell_type": "code",
   "execution_count": 16,
   "metadata": {},
   "outputs": [
    {
     "data": {
      "text/html": [
       "<div>\n",
       "<style scoped>\n",
       "    .dataframe tbody tr th:only-of-type {\n",
       "        vertical-align: middle;\n",
       "    }\n",
       "\n",
       "    .dataframe tbody tr th {\n",
       "        vertical-align: top;\n",
       "    }\n",
       "\n",
       "    .dataframe thead th {\n",
       "        text-align: right;\n",
       "    }\n",
       "</style>\n",
       "<table border=\"1\" class=\"dataframe\">\n",
       "  <thead>\n",
       "    <tr style=\"text-align: right;\">\n",
       "      <th></th>\n",
       "      <th>time</th>\n",
       "      <th>total load actual</th>\n",
       "      <th>total load forecast</th>\n",
       "    </tr>\n",
       "  </thead>\n",
       "  <tbody>\n",
       "    <tr>\n",
       "      <td>0</td>\n",
       "      <td>2015-01-01 00:00:00+01:00</td>\n",
       "      <td>25385.0</td>\n",
       "      <td>26118.0</td>\n",
       "    </tr>\n",
       "    <tr>\n",
       "      <td>1</td>\n",
       "      <td>2015-01-01 01:00:00+01:00</td>\n",
       "      <td>24382.0</td>\n",
       "      <td>24934.0</td>\n",
       "    </tr>\n",
       "    <tr>\n",
       "      <td>2</td>\n",
       "      <td>2015-01-01 02:00:00+01:00</td>\n",
       "      <td>22734.0</td>\n",
       "      <td>23515.0</td>\n",
       "    </tr>\n",
       "    <tr>\n",
       "      <td>3</td>\n",
       "      <td>2015-01-01 03:00:00+01:00</td>\n",
       "      <td>21286.0</td>\n",
       "      <td>22642.0</td>\n",
       "    </tr>\n",
       "    <tr>\n",
       "      <td>4</td>\n",
       "      <td>2015-01-01 04:00:00+01:00</td>\n",
       "      <td>20264.0</td>\n",
       "      <td>21785.0</td>\n",
       "    </tr>\n",
       "  </tbody>\n",
       "</table>\n",
       "</div>"
      ],
      "text/plain": [
       "                        time  total load actual  total load forecast\n",
       "0  2015-01-01 00:00:00+01:00            25385.0              26118.0\n",
       "1  2015-01-01 01:00:00+01:00            24382.0              24934.0\n",
       "2  2015-01-01 02:00:00+01:00            22734.0              23515.0\n",
       "3  2015-01-01 03:00:00+01:00            21286.0              22642.0\n",
       "4  2015-01-01 04:00:00+01:00            20264.0              21785.0"
      ]
     },
     "execution_count": 16,
     "metadata": {},
     "output_type": "execute_result"
    }
   ],
   "source": [
    "Energy_data.head()"
   ]
  },
  {
   "cell_type": "code",
   "execution_count": 17,
   "metadata": {},
   "outputs": [
    {
     "name": "stdout",
     "output_type": "stream",
     "text": [
      "There are 35064 observations in Energy_data.\n",
      "There are 35145 observations in Weather_data about city: Valencia.\n",
      "There are 36267 observations in Weather_data about city: Madrid.\n",
      "There are 35951 observations in Weather_data about city: Bilbao.\n",
      "There are 35476 observations in Weather_data about city:  Barcelona.\n",
      "There are 35557 observations in Weather_data about city: Seville.\n"
     ]
    }
   ],
   "source": [
    "#check the number of observations in weather data, to be sure that identify with energy data\n",
    "print('There are {} observations in Energy_data.'.format(Energy_data.shape[0]))\n",
    "\n",
    "cities = Weather_data['city_name'].unique()\n",
    "grouped_weather = Weather_data.groupby('city_name')\n",
    "\n",
    "for city in cities:\n",
    "    print('There are {} observations in Weather_data'\n",
    "          .format(grouped_weather.get_group('{}'.format(city)).shape[0]), \n",
    "          'about city: {}.'.format(city))"
   ]
  },
  {
   "cell_type": "code",
   "execution_count": 18,
   "metadata": {
    "scrolled": true
   },
   "outputs": [
    {
     "name": "stdout",
     "output_type": "stream",
     "text": [
      "0\n"
     ]
    }
   ],
   "source": [
    "#check for dublicate values in energy data\n",
    "temp_energy = Energy_data.duplicated(keep='first').sum()\n",
    "print(format(temp_energy))"
   ]
  },
  {
   "cell_type": "code",
   "execution_count": 19,
   "metadata": {},
   "outputs": [
    {
     "name": "stdout",
     "output_type": "stream",
     "text": [
      "There are 6747 dublicates in Weather_data about city: Valencia.\n",
      "There are 3901 dublicates in Weather_data about city: Madrid.\n",
      "There are 3279 dublicates in Weather_data about city: Bilbao.\n",
      "There are 5677 dublicates in Weather_data about city:  Barcelona.\n",
      "There are 4510 dublicates in Weather_data about city: Seville.\n"
     ]
    }
   ],
   "source": [
    "#check for dublicate values in weather data for every city seperately\n",
    "for city in cities:\n",
    "    print('There are {} dublicates in Weather_data'\n",
    "          .format(grouped_weather.get_group('{}'.format(city)).duplicated(keep='first').sum()), \n",
    "          'about city: {}.'.format(city))\n",
    "#temp_weather = Weather_data.duplicated(keep='first').sum()"
   ]
  },
  {
   "cell_type": "code",
   "execution_count": 20,
   "metadata": {},
   "outputs": [],
   "source": [
    "#drop duplicates from weather data \n",
    "Weather_final = Weather_data.reset_index().drop_duplicates(subset=['time', 'city_name'], keep='last')#.set_index('time')"
   ]
  },
  {
   "cell_type": "code",
   "execution_count": 21,
   "metadata": {
    "scrolled": true
   },
   "outputs": [
    {
     "name": "stdout",
     "output_type": "stream",
     "text": [
      "There are 35064 observations in Weather_data.\n",
      "There are 35064 observations in Weather_data about city: Valencia.\n",
      "There are 35064 observations in Weather_data about city: Madrid.\n",
      "There are 35064 observations in Weather_data about city: Bilbao.\n",
      "There are 35064 observations in Weather_data about city:  Barcelona.\n",
      "There are 35064 observations in Weather_data about city: Seville.\n"
     ]
    }
   ],
   "source": [
    "print('There are {} observations in Weather_data.'.format(Energy_data.shape[0]))\n",
    "\n",
    "cities = Weather_final['city_name'].unique()\n",
    "grouped_weather = Weather_final.groupby('city_name')\n",
    "\n",
    "for city in cities:\n",
    "    print('There are {} observations in Weather_data'\n",
    "          .format(grouped_weather.get_group('{}'.format(city)).shape[0]), \n",
    "          'about city: {}.'.format(city))"
   ]
  },
  {
   "cell_type": "markdown",
   "metadata": {},
   "source": [
    "# outlier detection \n"
   ]
  },
  {
   "cell_type": "code",
   "execution_count": 22,
   "metadata": {},
   "outputs": [
    {
     "data": {
      "image/png": "[encoded data removed]",
      "text/plain": [
       "<Figure size 432x288 with 1 Axes>"
      ]
     },
     "metadata": {
      "needs_background": "light"
     },
     "output_type": "display_data"
    }
   ],
   "source": [
    "# Check for outliers in load data \n",
    "sns.boxplot(x=Energy_data['total load actual'])\n",
    "plt.show()"
   ]
  },
  {
   "cell_type": "code",
   "execution_count": 23,
   "metadata": {
    "scrolled": false
   },
   "outputs": [
    {
     "name": "stdout",
     "output_type": "stream",
     "text": [
      "temperature\n"
     ]
    },
    {
     "data": {
      "image/png": "[encoded data removed]",
      "text/plain": [
       "<Figure size 432x288 with 1 Axes>"
      ]
     },
     "metadata": {
      "needs_background": "light"
     },
     "output_type": "display_data"
    },
    {
     "name": "stdout",
     "output_type": "stream",
     "text": [
      "pressure\n"
     ]
    },
    {
     "data": {
      "image/png": "[encoded data removed]",
      "text/plain": [
       "<Figure size 432x288 with 1 Axes>"
      ]
     },
     "metadata": {
      "needs_background": "light"
     },
     "output_type": "display_data"
    },
    {
     "name": "stdout",
     "output_type": "stream",
     "text": [
      "humidity\n"
     ]
    },
    {
     "data": {
      "image/png": "[encoded data removed]",
      "text/plain": [
       "<Figure size 432x288 with 1 Axes>"
      ]
     },
     "metadata": {
      "needs_background": "light"
     },
     "output_type": "display_data"
    },
    {
     "name": "stdout",
     "output_type": "stream",
     "text": [
      "wind speed\n"
     ]
    },
    {
     "data": {
      "image/png": "[encoded data removed]",
      "text/plain": [
       "<Figure size 432x288 with 1 Axes>"
      ]
     },
     "metadata": {
      "needs_background": "light"
     },
     "output_type": "display_data"
    }
   ],
   "source": [
    "# Check for outliers in weather data \n",
    "print('temperature')\n",
    "sns.boxplot(x=Weather_final['temp'])\n",
    "plt.show()\n",
    "print('pressure')\n",
    "sns.boxplot(x=Weather_final['pressure'])\n",
    "plt.show()\n",
    "print('humidity')\n",
    "sns.boxplot(x=Weather_final['humidity'])\n",
    "plt.show()\n",
    "print('wind speed')\n",
    "sns.boxplot(x=Weather_final['wind_speed'])\n",
    "plt.show()"
   ]
  },
  {
   "cell_type": "markdown",
   "metadata": {},
   "source": [
    "## find outliers in humidity, pressure, and wind_speed, set them null value and use interpolation to fill the gaps"
   ]
  },
  {
   "cell_type": "code",
   "execution_count": 24,
   "metadata": {},
   "outputs": [
    {
     "data": {
      "text/plain": [
       "' 1051 hPa is above the highest air pressure ever recorded in the Iberian peninsula and 931 hPa the lowest air \\npressure ever recorded in the Iberian peninsula. '"
      ]
     },
     "execution_count": 24,
     "metadata": {},
     "output_type": "execute_result"
    }
   ],
   "source": [
    "# Replace outliers in 'pressure' with NaNs\n",
    "Weather_final.loc[Weather_final.pressure > 1051, 'pressure'] = np.nan\n",
    "Weather_final.loc[Weather_final.pressure < 931, 'pressure'] = np.nan\n",
    "\"\"\" 1051 hPa is above the highest air pressure ever recorded in the Iberian peninsula and 931 hPa the lowest air \n",
    "pressure ever recorded in the Iberian peninsula. \"\"\"\n"
   ]
  },
  {
   "cell_type": "code",
   "execution_count": 25,
   "metadata": {},
   "outputs": [
    {
     "data": {
      "image/png": "[encoded data removed]",
      "text/plain": [
       "<Figure size 432x288 with 1 Axes>"
      ]
     },
     "metadata": {
      "needs_background": "light"
     },
     "output_type": "display_data"
    }
   ],
   "source": [
    "# Check for outliers in 'pressure' column again\n",
    "\n",
    "sns.boxplot(x=Weather_final['pressure'])\n",
    "plt.show()"
   ]
  },
  {
   "cell_type": "code",
   "execution_count": 26,
   "metadata": {},
   "outputs": [
    {
     "name": "stdout",
     "output_type": "stream",
     "text": [
      "there number of null values in Weather_data is: 441\n"
     ]
    }
   ],
   "source": [
    "print(\"there number of null values in Weather_data is:\",format(Weather_final.isnull().values.sum()))"
   ]
  },
  {
   "cell_type": "code",
   "execution_count": 27,
   "metadata": {},
   "outputs": [
    {
     "data": {
      "text/plain": [
       "' 50 m/s,is the highest bound (112 mph) of the wind speed estimate of a F1 (Fujita scale)\\n tornado, having in mind that the last F1 tornado in Spain was Gandia tornado, which was recorded on 28th September\\n 2012, 2 years before the starting point of our available data. '"
      ]
     },
     "execution_count": 27,
     "metadata": {},
     "output_type": "execute_result"
    }
   ],
   "source": [
    "# Replace outliers in 'wind_speed' with NaNs\n",
    "Weather_final.loc[Weather_final.wind_speed > 50, 'wind_speed'] = np.nan\n",
    "\"\"\" 50 m/s,is the highest bound (112 mph) of the wind speed estimate of a F1 (Fujita scale)\n",
    " tornado, having in mind that the last F1 tornado in Spain was Gandia tornado, which was recorded on 28th September\n",
    " 2012, 2 years before the starting point of our available data. \"\"\""
   ]
  },
  {
   "cell_type": "code",
   "execution_count": 28,
   "metadata": {},
   "outputs": [
    {
     "name": "stdout",
     "output_type": "stream",
     "text": [
      "there number of null values in Weather_data is: 444\n"
     ]
    }
   ],
   "source": [
    "print(\"there number of null values in Weather_data is:\",format(Weather_final.isnull().values.sum()))"
   ]
  },
  {
   "cell_type": "code",
   "execution_count": 29,
   "metadata": {},
   "outputs": [],
   "source": [
    "# Replace outliers in 'humidity' with NaNs\n",
    "\n",
    "Weather_final.loc[Weather_final.humidity < 1, 'humidity'] = np.nan"
   ]
  },
  {
   "cell_type": "code",
   "execution_count": 30,
   "metadata": {},
   "outputs": [
    {
     "name": "stdout",
     "output_type": "stream",
     "text": [
      "there number of null values in Weather_data is: 507\n"
     ]
    }
   ],
   "source": [
    "print(\"there number of null values in Weather_data is:\",format(Weather_final.isnull().values.sum()))"
   ]
  },
  {
   "cell_type": "code",
   "execution_count": 31,
   "metadata": {
    "scrolled": false
   },
   "outputs": [
    {
     "name": "stdout",
     "output_type": "stream",
     "text": [
      "humidity\n"
     ]
    },
    {
     "data": {
      "image/png": "[encoded data removed]",
      "text/plain": [
       "<Figure size 432x288 with 1 Axes>"
      ]
     },
     "metadata": {
      "needs_background": "light"
     },
     "output_type": "display_data"
    }
   ],
   "source": [
    "print('humidity')\n",
    "sns.boxplot(x=Weather_final['humidity'])\n",
    "plt.show()"
   ]
  },
  {
   "cell_type": "code",
   "execution_count": 32,
   "metadata": {},
   "outputs": [],
   "source": [
    "#Fill null values using linear interpolation\n",
    "Weather_final.interpolate(method='linear', limit_direction='forward', inplace=True, axis=0)"
   ]
  },
  {
   "cell_type": "code",
   "execution_count": 33,
   "metadata": {},
   "outputs": [],
   "source": [
    "#split Weather_final data by city\n",
    "Barcelona,Bilbao, Madrid, Seville, Valencia  = [x for _, x in Weather_final.groupby('city_name')]\n",
    "df_Cities = [Barcelona, Bilbao, Madrid, Seville, Valencia ]"
   ]
  },
  {
   "cell_type": "code",
   "execution_count": 34,
   "metadata": {},
   "outputs": [],
   "source": [
    "#Convert time to datetime object and set it as index\n",
    "Energy_data['time'] = pd.to_datetime(Energy_data['time'], infer_datetime_format=True)\n",
    "#Energy_data = Energy_data.set_index('time')"
   ]
  },
  {
   "cell_type": "code",
   "execution_count": 35,
   "metadata": {},
   "outputs": [
    {
     "data": {
      "text/plain": [
       "Index(['time', 'total load actual', 'total load forecast', 'temp_Barcelona',\n",
       "       'pressure_Barcelona', 'humidity_Barcelona', 'wind_speed_Barcelona',\n",
       "       'temp_Bilbao', 'pressure_Bilbao', 'humidity_Bilbao',\n",
       "       'wind_speed_Bilbao', 'temp_Madrid', 'pressure_Madrid',\n",
       "       'humidity_Madrid', 'wind_speed_Madrid', 'temp_Seville',\n",
       "       'pressure_Seville', 'humidity_Seville', 'wind_speed_Seville',\n",
       "       'temp_Valencia', 'pressure_Valencia', 'humidity_Valencia',\n",
       "       'wind_speed_Valencia'],\n",
       "      dtype='object')"
      ]
     },
     "execution_count": 35,
     "metadata": {},
     "output_type": "execute_result"
    }
   ],
   "source": [
    "# Merge all dataframes into the final dataframe\n",
    "\n",
    "Final_data = Energy_data\n",
    "\n",
    "for df in df_Cities:\n",
    "    city = df['city_name'].unique()\n",
    "    city_str = str(city).replace(\"'\", \"\").replace('[', '').replace(']', '').replace(' ', '')\n",
    "    df = df.add_suffix('_{}'.format(city_str))\n",
    "    df['time'] = df['time_' + city_str]\n",
    "    Final_data = Final_data.merge(df, on=['time'], how='outer')\n",
    "    Final_data = Final_data.drop('city_name_{}'.format(city_str), axis=1)\n",
    "    Final_data = Final_data.drop('time_'+city_str, axis=1)\n",
    "    \n",
    "Final_data.columns"
   ]
  },
  {
   "cell_type": "code",
   "execution_count": 36,
   "metadata": {},
   "outputs": [],
   "source": [
    "Final_data = Final_data.set_index('time')"
   ]
  },
  {
   "cell_type": "code",
   "execution_count": 38,
   "metadata": {},
   "outputs": [
    {
     "data": {
      "text/html": [
       "<div>\n",
       "<style scoped>\n",
       "    .dataframe tbody tr th:only-of-type {\n",
       "        vertical-align: middle;\n",
       "    }\n",
       "\n",
       "    .dataframe tbody tr th {\n",
       "        vertical-align: top;\n",
       "    }\n",
       "\n",
       "    .dataframe thead th {\n",
       "        text-align: right;\n",
       "    }\n",
       "</style>\n",
       "<table border=\"1\" class=\"dataframe\">\n",
       "  <thead>\n",
       "    <tr style=\"text-align: right;\">\n",
       "      <th></th>\n",
       "      <th>total load actual</th>\n",
       "      <th>total load forecast</th>\n",
       "      <th>temp_Barcelona</th>\n",
       "      <th>pressure_Barcelona</th>\n",
       "      <th>humidity_Barcelona</th>\n",
       "      <th>wind_speed_Barcelona</th>\n",
       "      <th>temp_Bilbao</th>\n",
       "      <th>pressure_Bilbao</th>\n",
       "      <th>humidity_Bilbao</th>\n",
       "      <th>wind_speed_Bilbao</th>\n",
       "      <th>...</th>\n",
       "      <th>humidity_Madrid</th>\n",
       "      <th>wind_speed_Madrid</th>\n",
       "      <th>temp_Seville</th>\n",
       "      <th>pressure_Seville</th>\n",
       "      <th>humidity_Seville</th>\n",
       "      <th>wind_speed_Seville</th>\n",
       "      <th>temp_Valencia</th>\n",
       "      <th>pressure_Valencia</th>\n",
       "      <th>humidity_Valencia</th>\n",
       "      <th>wind_speed_Valencia</th>\n",
       "    </tr>\n",
       "    <tr>\n",
       "      <th>time</th>\n",
       "      <th></th>\n",
       "      <th></th>\n",
       "      <th></th>\n",
       "      <th></th>\n",
       "      <th></th>\n",
       "      <th></th>\n",
       "      <th></th>\n",
       "      <th></th>\n",
       "      <th></th>\n",
       "      <th></th>\n",
       "      <th></th>\n",
       "      <th></th>\n",
       "      <th></th>\n",
       "      <th></th>\n",
       "      <th></th>\n",
       "      <th></th>\n",
       "      <th></th>\n",
       "      <th></th>\n",
       "      <th></th>\n",
       "      <th></th>\n",
       "      <th></th>\n",
       "    </tr>\n",
       "  </thead>\n",
       "  <tbody>\n",
       "    <tr>\n",
       "      <td>2015-01-01 00:00:00+01:00</td>\n",
       "      <td>25385.0</td>\n",
       "      <td>26118.0</td>\n",
       "      <td>281.625</td>\n",
       "      <td>1035.0</td>\n",
       "      <td>100.0</td>\n",
       "      <td>7.0</td>\n",
       "      <td>269.657312</td>\n",
       "      <td>1036.0</td>\n",
       "      <td>97.0</td>\n",
       "      <td>0.0</td>\n",
       "      <td>...</td>\n",
       "      <td>63.0</td>\n",
       "      <td>1.0</td>\n",
       "      <td>273.375</td>\n",
       "      <td>1039.0</td>\n",
       "      <td>75.0</td>\n",
       "      <td>1.0</td>\n",
       "      <td>270.475</td>\n",
       "      <td>1001.0</td>\n",
       "      <td>77.0</td>\n",
       "      <td>1.0</td>\n",
       "    </tr>\n",
       "    <tr>\n",
       "      <td>2015-01-01 01:00:00+01:00</td>\n",
       "      <td>24382.0</td>\n",
       "      <td>24934.0</td>\n",
       "      <td>281.625</td>\n",
       "      <td>1035.0</td>\n",
       "      <td>100.0</td>\n",
       "      <td>7.0</td>\n",
       "      <td>269.763500</td>\n",
       "      <td>1035.0</td>\n",
       "      <td>97.0</td>\n",
       "      <td>0.0</td>\n",
       "      <td>...</td>\n",
       "      <td>63.0</td>\n",
       "      <td>1.0</td>\n",
       "      <td>273.375</td>\n",
       "      <td>1039.0</td>\n",
       "      <td>75.0</td>\n",
       "      <td>1.0</td>\n",
       "      <td>270.475</td>\n",
       "      <td>1001.0</td>\n",
       "      <td>77.0</td>\n",
       "      <td>1.0</td>\n",
       "    </tr>\n",
       "    <tr>\n",
       "      <td>2015-01-01 02:00:00+01:00</td>\n",
       "      <td>22734.0</td>\n",
       "      <td>23515.0</td>\n",
       "      <td>281.286</td>\n",
       "      <td>1036.0</td>\n",
       "      <td>100.0</td>\n",
       "      <td>7.0</td>\n",
       "      <td>269.251688</td>\n",
       "      <td>1036.0</td>\n",
       "      <td>97.0</td>\n",
       "      <td>1.0</td>\n",
       "      <td>...</td>\n",
       "      <td>64.0</td>\n",
       "      <td>1.0</td>\n",
       "      <td>274.086</td>\n",
       "      <td>1039.0</td>\n",
       "      <td>71.0</td>\n",
       "      <td>3.0</td>\n",
       "      <td>269.686</td>\n",
       "      <td>1002.0</td>\n",
       "      <td>78.0</td>\n",
       "      <td>0.0</td>\n",
       "    </tr>\n",
       "    <tr>\n",
       "      <td>2015-01-01 03:00:00+01:00</td>\n",
       "      <td>21286.0</td>\n",
       "      <td>22642.0</td>\n",
       "      <td>281.286</td>\n",
       "      <td>1036.0</td>\n",
       "      <td>100.0</td>\n",
       "      <td>7.0</td>\n",
       "      <td>269.203344</td>\n",
       "      <td>1035.0</td>\n",
       "      <td>97.0</td>\n",
       "      <td>1.0</td>\n",
       "      <td>...</td>\n",
       "      <td>64.0</td>\n",
       "      <td>1.0</td>\n",
       "      <td>274.086</td>\n",
       "      <td>1039.0</td>\n",
       "      <td>71.0</td>\n",
       "      <td>3.0</td>\n",
       "      <td>269.686</td>\n",
       "      <td>1002.0</td>\n",
       "      <td>78.0</td>\n",
       "      <td>0.0</td>\n",
       "    </tr>\n",
       "    <tr>\n",
       "      <td>2015-01-01 04:00:00+01:00</td>\n",
       "      <td>20264.0</td>\n",
       "      <td>21785.0</td>\n",
       "      <td>281.286</td>\n",
       "      <td>1036.0</td>\n",
       "      <td>100.0</td>\n",
       "      <td>7.0</td>\n",
       "      <td>269.485500</td>\n",
       "      <td>1035.0</td>\n",
       "      <td>97.0</td>\n",
       "      <td>1.0</td>\n",
       "      <td>...</td>\n",
       "      <td>64.0</td>\n",
       "      <td>1.0</td>\n",
       "      <td>274.086</td>\n",
       "      <td>1039.0</td>\n",
       "      <td>71.0</td>\n",
       "      <td>3.0</td>\n",
       "      <td>269.686</td>\n",
       "      <td>1002.0</td>\n",
       "      <td>78.0</td>\n",
       "      <td>0.0</td>\n",
       "    </tr>\n",
       "  </tbody>\n",
       "</table>\n",
       "<p>5 rows × 22 columns</p>\n",
       "</div>"
      ],
      "text/plain": [
       "                           total load actual  total load forecast  \\\n",
       "time                                                                \n",
       "2015-01-01 00:00:00+01:00            25385.0              26118.0   \n",
       "2015-01-01 01:00:00+01:00            24382.0              24934.0   \n",
       "2015-01-01 02:00:00+01:00            22734.0              23515.0   \n",
       "2015-01-01 03:00:00+01:00            21286.0              22642.0   \n",
       "2015-01-01 04:00:00+01:00            20264.0              21785.0   \n",
       "\n",
       "                           temp_Barcelona  pressure_Barcelona  \\\n",
       "time                                                            \n",
       "2015-01-01 00:00:00+01:00         281.625              1035.0   \n",
       "2015-01-01 01:00:00+01:00         281.625              1035.0   \n",
       "2015-01-01 02:00:00+01:00         281.286              1036.0   \n",
       "2015-01-01 03:00:00+01:00         281.286              1036.0   \n",
       "2015-01-01 04:00:00+01:00         281.286              1036.0   \n",
       "\n",
       "                           humidity_Barcelona  wind_speed_Barcelona  \\\n",
       "time                                                                  \n",
       "2015-01-01 00:00:00+01:00               100.0                   7.0   \n",
       "2015-01-01 01:00:00+01:00               100.0                   7.0   \n",
       "2015-01-01 02:00:00+01:00               100.0                   7.0   \n",
       "2015-01-01 03:00:00+01:00               100.0                   7.0   \n",
       "2015-01-01 04:00:00+01:00               100.0                   7.0   \n",
       "\n",
       "                           temp_Bilbao  pressure_Bilbao  humidity_Bilbao  \\\n",
       "time                                                                       \n",
       "2015-01-01 00:00:00+01:00   269.657312           1036.0             97.0   \n",
       "2015-01-01 01:00:00+01:00   269.763500           1035.0             97.0   \n",
       "2015-01-01 02:00:00+01:00   269.251688           1036.0             97.0   \n",
       "2015-01-01 03:00:00+01:00   269.203344           1035.0             97.0   \n",
       "2015-01-01 04:00:00+01:00   269.485500           1035.0             97.0   \n",
       "\n",
       "                           wind_speed_Bilbao  ...  humidity_Madrid  \\\n",
       "time                                          ...                    \n",
       "2015-01-01 00:00:00+01:00                0.0  ...             63.0   \n",
       "2015-01-01 01:00:00+01:00                0.0  ...             63.0   \n",
       "2015-01-01 02:00:00+01:00                1.0  ...             64.0   \n",
       "2015-01-01 03:00:00+01:00                1.0  ...             64.0   \n",
       "2015-01-01 04:00:00+01:00                1.0  ...             64.0   \n",
       "\n",
       "                           wind_speed_Madrid  temp_Seville  pressure_Seville  \\\n",
       "time                                                                           \n",
       "2015-01-01 00:00:00+01:00                1.0       273.375            1039.0   \n",
       "2015-01-01 01:00:00+01:00                1.0       273.375            1039.0   \n",
       "2015-01-01 02:00:00+01:00                1.0       274.086            1039.0   \n",
       "2015-01-01 03:00:00+01:00                1.0       274.086            1039.0   \n",
       "2015-01-01 04:00:00+01:00                1.0       274.086            1039.0   \n",
       "\n",
       "                           humidity_Seville  wind_speed_Seville  \\\n",
       "time                                                              \n",
       "2015-01-01 00:00:00+01:00              75.0                 1.0   \n",
       "2015-01-01 01:00:00+01:00              75.0                 1.0   \n",
       "2015-01-01 02:00:00+01:00              71.0                 3.0   \n",
       "2015-01-01 03:00:00+01:00              71.0                 3.0   \n",
       "2015-01-01 04:00:00+01:00              71.0                 3.0   \n",
       "\n",
       "                           temp_Valencia  pressure_Valencia  \\\n",
       "time                                                          \n",
       "2015-01-01 00:00:00+01:00        270.475             1001.0   \n",
       "2015-01-01 01:00:00+01:00        270.475             1001.0   \n",
       "2015-01-01 02:00:00+01:00        269.686             1002.0   \n",
       "2015-01-01 03:00:00+01:00        269.686             1002.0   \n",
       "2015-01-01 04:00:00+01:00        269.686             1002.0   \n",
       "\n",
       "                           humidity_Valencia  wind_speed_Valencia  \n",
       "time                                                               \n",
       "2015-01-01 00:00:00+01:00               77.0                  1.0  \n",
       "2015-01-01 01:00:00+01:00               77.0                  1.0  \n",
       "2015-01-01 02:00:00+01:00               78.0                  0.0  \n",
       "2015-01-01 03:00:00+01:00               78.0                  0.0  \n",
       "2015-01-01 04:00:00+01:00               78.0                  0.0  \n",
       "\n",
       "[5 rows x 22 columns]"
      ]
     },
     "execution_count": 38,
     "metadata": {},
     "output_type": "execute_result"
    }
   ],
   "source": [
    "Final_data.head()"
   ]
  },
  {
   "cell_type": "code",
   "execution_count": 39,
   "metadata": {},
   "outputs": [
    {
     "name": "stdout",
     "output_type": "stream",
     "text": [
      "There are 0 missing values or NaNs in Final_data.\n",
      "\n",
      "There are 0 duplicate rows in Final_data based on all columns.\n"
     ]
    }
   ],
   "source": [
    "print('There are {} missing values or NaNs in Final_data.'\n",
    "      .format(Final_data.isnull().values.sum()))\n",
    "\n",
    "temp_final = Final_data.duplicated(keep='first').sum()\n",
    "\n",
    "print('\\nThere are {} duplicate rows in Final_data based on all columns.'\n",
    "      .format(temp_final))"
   ]
  },
  {
   "cell_type": "code",
   "execution_count": 40,
   "metadata": {},
   "outputs": [],
   "source": [
    "#Final_data.info()"
   ]
  },
  {
   "cell_type": "code",
   "execution_count": 41,
   "metadata": {},
   "outputs": [],
   "source": [
    "#time feature generation\n",
    "for i in range(len(Final_data)):\n",
    "    position = Final_data.index[i]\n",
    "    hour = position.hour\n",
    "    weekday = position.weekday()\n",
    "    month = position.month\n",
    "    Final_data.loc[position, 'hour'] = hour\n",
    "    Final_data.loc[position, 'weekday'] = weekday\n",
    "    Final_data.loc[position, 'month'] = month"
   ]
  },
  {
   "cell_type": "code",
   "execution_count": 42,
   "metadata": {},
   "outputs": [
    {
     "data": {
      "text/html": [
       "<div>\n",
       "<style scoped>\n",
       "    .dataframe tbody tr th:only-of-type {\n",
       "        vertical-align: middle;\n",
       "    }\n",
       "\n",
       "    .dataframe tbody tr th {\n",
       "        vertical-align: top;\n",
       "    }\n",
       "\n",
       "    .dataframe thead th {\n",
       "        text-align: right;\n",
       "    }\n",
       "</style>\n",
       "<table border=\"1\" class=\"dataframe\">\n",
       "  <thead>\n",
       "    <tr style=\"text-align: right;\">\n",
       "      <th></th>\n",
       "      <th>total load actual</th>\n",
       "      <th>total load forecast</th>\n",
       "      <th>temp_Barcelona</th>\n",
       "      <th>pressure_Barcelona</th>\n",
       "      <th>humidity_Barcelona</th>\n",
       "      <th>wind_speed_Barcelona</th>\n",
       "      <th>temp_Bilbao</th>\n",
       "      <th>pressure_Bilbao</th>\n",
       "      <th>humidity_Bilbao</th>\n",
       "      <th>wind_speed_Bilbao</th>\n",
       "      <th>...</th>\n",
       "      <th>pressure_Seville</th>\n",
       "      <th>humidity_Seville</th>\n",
       "      <th>wind_speed_Seville</th>\n",
       "      <th>temp_Valencia</th>\n",
       "      <th>pressure_Valencia</th>\n",
       "      <th>humidity_Valencia</th>\n",
       "      <th>wind_speed_Valencia</th>\n",
       "      <th>hour</th>\n",
       "      <th>weekday</th>\n",
       "      <th>month</th>\n",
       "    </tr>\n",
       "    <tr>\n",
       "      <th>time</th>\n",
       "      <th></th>\n",
       "      <th></th>\n",
       "      <th></th>\n",
       "      <th></th>\n",
       "      <th></th>\n",
       "      <th></th>\n",
       "      <th></th>\n",
       "      <th></th>\n",
       "      <th></th>\n",
       "      <th></th>\n",
       "      <th></th>\n",
       "      <th></th>\n",
       "      <th></th>\n",
       "      <th></th>\n",
       "      <th></th>\n",
       "      <th></th>\n",
       "      <th></th>\n",
       "      <th></th>\n",
       "      <th></th>\n",
       "      <th></th>\n",
       "      <th></th>\n",
       "    </tr>\n",
       "  </thead>\n",
       "  <tbody>\n",
       "    <tr>\n",
       "      <td>2018-12-31 19:00:00+01:00</td>\n",
       "      <td>30653.0</td>\n",
       "      <td>30619.0</td>\n",
       "      <td>284.13</td>\n",
       "      <td>1027.0</td>\n",
       "      <td>71.0</td>\n",
       "      <td>1.0</td>\n",
       "      <td>281.26</td>\n",
       "      <td>1033.0</td>\n",
       "      <td>93.0</td>\n",
       "      <td>0.0</td>\n",
       "      <td>...</td>\n",
       "      <td>1028.0</td>\n",
       "      <td>54.0</td>\n",
       "      <td>3.0</td>\n",
       "      <td>285.64</td>\n",
       "      <td>1028.0</td>\n",
       "      <td>62.0</td>\n",
       "      <td>2.0</td>\n",
       "      <td>19.0</td>\n",
       "      <td>0.0</td>\n",
       "      <td>12.0</td>\n",
       "    </tr>\n",
       "    <tr>\n",
       "      <td>2018-12-31 20:00:00+01:00</td>\n",
       "      <td>29735.0</td>\n",
       "      <td>29932.0</td>\n",
       "      <td>282.64</td>\n",
       "      <td>1027.0</td>\n",
       "      <td>62.0</td>\n",
       "      <td>3.0</td>\n",
       "      <td>279.81</td>\n",
       "      <td>1034.0</td>\n",
       "      <td>93.0</td>\n",
       "      <td>1.0</td>\n",
       "      <td>...</td>\n",
       "      <td>1029.0</td>\n",
       "      <td>62.0</td>\n",
       "      <td>3.0</td>\n",
       "      <td>283.14</td>\n",
       "      <td>1029.0</td>\n",
       "      <td>71.0</td>\n",
       "      <td>1.0</td>\n",
       "      <td>20.0</td>\n",
       "      <td>0.0</td>\n",
       "      <td>12.0</td>\n",
       "    </tr>\n",
       "    <tr>\n",
       "      <td>2018-12-31 21:00:00+01:00</td>\n",
       "      <td>28071.0</td>\n",
       "      <td>27903.0</td>\n",
       "      <td>282.14</td>\n",
       "      <td>1028.0</td>\n",
       "      <td>53.0</td>\n",
       "      <td>4.0</td>\n",
       "      <td>277.15</td>\n",
       "      <td>1034.0</td>\n",
       "      <td>100.0</td>\n",
       "      <td>1.0</td>\n",
       "      <td>...</td>\n",
       "      <td>1028.0</td>\n",
       "      <td>58.0</td>\n",
       "      <td>4.0</td>\n",
       "      <td>281.66</td>\n",
       "      <td>1029.0</td>\n",
       "      <td>81.0</td>\n",
       "      <td>3.0</td>\n",
       "      <td>21.0</td>\n",
       "      <td>0.0</td>\n",
       "      <td>12.0</td>\n",
       "    </tr>\n",
       "    <tr>\n",
       "      <td>2018-12-31 22:00:00+01:00</td>\n",
       "      <td>25801.0</td>\n",
       "      <td>25450.0</td>\n",
       "      <td>281.13</td>\n",
       "      <td>1028.0</td>\n",
       "      <td>50.0</td>\n",
       "      <td>5.0</td>\n",
       "      <td>276.60</td>\n",
       "      <td>1034.0</td>\n",
       "      <td>93.0</td>\n",
       "      <td>1.0</td>\n",
       "      <td>...</td>\n",
       "      <td>1029.0</td>\n",
       "      <td>57.0</td>\n",
       "      <td>4.0</td>\n",
       "      <td>280.14</td>\n",
       "      <td>1029.0</td>\n",
       "      <td>81.0</td>\n",
       "      <td>2.0</td>\n",
       "      <td>22.0</td>\n",
       "      <td>0.0</td>\n",
       "      <td>12.0</td>\n",
       "    </tr>\n",
       "    <tr>\n",
       "      <td>2018-12-31 23:00:00+01:00</td>\n",
       "      <td>24455.0</td>\n",
       "      <td>24424.0</td>\n",
       "      <td>280.13</td>\n",
       "      <td>1028.0</td>\n",
       "      <td>100.0</td>\n",
       "      <td>5.0</td>\n",
       "      <td>275.60</td>\n",
       "      <td>1034.0</td>\n",
       "      <td>93.0</td>\n",
       "      <td>2.0</td>\n",
       "      <td>...</td>\n",
       "      <td>1029.0</td>\n",
       "      <td>70.0</td>\n",
       "      <td>3.0</td>\n",
       "      <td>279.14</td>\n",
       "      <td>1029.0</td>\n",
       "      <td>75.0</td>\n",
       "      <td>2.0</td>\n",
       "      <td>23.0</td>\n",
       "      <td>0.0</td>\n",
       "      <td>12.0</td>\n",
       "    </tr>\n",
       "  </tbody>\n",
       "</table>\n",
       "<p>5 rows × 25 columns</p>\n",
       "</div>"
      ],
      "text/plain": [
       "                           total load actual  total load forecast  \\\n",
       "time                                                                \n",
       "2018-12-31 19:00:00+01:00            30653.0              30619.0   \n",
       "2018-12-31 20:00:00+01:00            29735.0              29932.0   \n",
       "2018-12-31 21:00:00+01:00            28071.0              27903.0   \n",
       "2018-12-31 22:00:00+01:00            25801.0              25450.0   \n",
       "2018-12-31 23:00:00+01:00            24455.0              24424.0   \n",
       "\n",
       "                           temp_Barcelona  pressure_Barcelona  \\\n",
       "time                                                            \n",
       "2018-12-31 19:00:00+01:00          284.13              1027.0   \n",
       "2018-12-31 20:00:00+01:00          282.64              1027.0   \n",
       "2018-12-31 21:00:00+01:00          282.14              1028.0   \n",
       "2018-12-31 22:00:00+01:00          281.13              1028.0   \n",
       "2018-12-31 23:00:00+01:00          280.13              1028.0   \n",
       "\n",
       "                           humidity_Barcelona  wind_speed_Barcelona  \\\n",
       "time                                                                  \n",
       "2018-12-31 19:00:00+01:00                71.0                   1.0   \n",
       "2018-12-31 20:00:00+01:00                62.0                   3.0   \n",
       "2018-12-31 21:00:00+01:00                53.0                   4.0   \n",
       "2018-12-31 22:00:00+01:00                50.0                   5.0   \n",
       "2018-12-31 23:00:00+01:00               100.0                   5.0   \n",
       "\n",
       "                           temp_Bilbao  pressure_Bilbao  humidity_Bilbao  \\\n",
       "time                                                                       \n",
       "2018-12-31 19:00:00+01:00       281.26           1033.0             93.0   \n",
       "2018-12-31 20:00:00+01:00       279.81           1034.0             93.0   \n",
       "2018-12-31 21:00:00+01:00       277.15           1034.0            100.0   \n",
       "2018-12-31 22:00:00+01:00       276.60           1034.0             93.0   \n",
       "2018-12-31 23:00:00+01:00       275.60           1034.0             93.0   \n",
       "\n",
       "                           wind_speed_Bilbao  ...  pressure_Seville  \\\n",
       "time                                          ...                     \n",
       "2018-12-31 19:00:00+01:00                0.0  ...            1028.0   \n",
       "2018-12-31 20:00:00+01:00                1.0  ...            1029.0   \n",
       "2018-12-31 21:00:00+01:00                1.0  ...            1028.0   \n",
       "2018-12-31 22:00:00+01:00                1.0  ...            1029.0   \n",
       "2018-12-31 23:00:00+01:00                2.0  ...            1029.0   \n",
       "\n",
       "                           humidity_Seville  wind_speed_Seville  \\\n",
       "time                                                              \n",
       "2018-12-31 19:00:00+01:00              54.0                 3.0   \n",
       "2018-12-31 20:00:00+01:00              62.0                 3.0   \n",
       "2018-12-31 21:00:00+01:00              58.0                 4.0   \n",
       "2018-12-31 22:00:00+01:00              57.0                 4.0   \n",
       "2018-12-31 23:00:00+01:00              70.0                 3.0   \n",
       "\n",
       "                           temp_Valencia  pressure_Valencia  \\\n",
       "time                                                          \n",
       "2018-12-31 19:00:00+01:00         285.64             1028.0   \n",
       "2018-12-31 20:00:00+01:00         283.14             1029.0   \n",
       "2018-12-31 21:00:00+01:00         281.66             1029.0   \n",
       "2018-12-31 22:00:00+01:00         280.14             1029.0   \n",
       "2018-12-31 23:00:00+01:00         279.14             1029.0   \n",
       "\n",
       "                           humidity_Valencia  wind_speed_Valencia  hour  \\\n",
       "time                                                                      \n",
       "2018-12-31 19:00:00+01:00               62.0                  2.0  19.0   \n",
       "2018-12-31 20:00:00+01:00               71.0                  1.0  20.0   \n",
       "2018-12-31 21:00:00+01:00               81.0                  3.0  21.0   \n",
       "2018-12-31 22:00:00+01:00               81.0                  2.0  22.0   \n",
       "2018-12-31 23:00:00+01:00               75.0                  2.0  23.0   \n",
       "\n",
       "                           weekday  month  \n",
       "time                                       \n",
       "2018-12-31 19:00:00+01:00      0.0   12.0  \n",
       "2018-12-31 20:00:00+01:00      0.0   12.0  \n",
       "2018-12-31 21:00:00+01:00      0.0   12.0  \n",
       "2018-12-31 22:00:00+01:00      0.0   12.0  \n",
       "2018-12-31 23:00:00+01:00      0.0   12.0  \n",
       "\n",
       "[5 rows x 25 columns]"
      ]
     },
     "execution_count": 42,
     "metadata": {},
     "output_type": "execute_result"
    }
   ],
   "source": [
    "Final_data.tail()"
   ]
  },
  {
   "cell_type": "code",
   "execution_count": 43,
   "metadata": {},
   "outputs": [],
   "source": [
    "Final_data.to_csv('Final_data_1.csv') "
   ]
  }
 ],
 "metadata": {
  "kernelspec": {
   "display_name": "Python 3",
   "language": "python",
   "name": "python3"
  },
  "language_info": {
   "codemirror_mode": {
    "name": "ipython",
    "version": 3
   },
   "file_extension": ".py",
   "mimetype": "text/x-python",
   "name": "python",
   "nbconvert_exporter": "python",
   "pygments_lexer": "ipython3",
   "version": "3.7.4"
  }
 },
 "nbformat": 4,
 "nbformat_minor": 2
}
